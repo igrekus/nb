{
 "cells": [
  {
   "cell_type": "code",
   "execution_count": 1,
   "id": "09ba0b53-0319-4b5b-9f3c-975e575df63d",
   "metadata": {},
   "outputs": [],
   "source": [
    "import itertools\n",
    "\n",
    "import pandas as pd\n",
    "import seaborn as sb\n",
    "\n",
    "from numpy import nan"
   ]
  },
  {
   "cell_type": "code",
   "execution_count": 2,
   "id": "30c63405-4b66-4941-ac91-9081974b782d",
   "metadata": {},
   "outputs": [],
   "source": [
    "df = pd.read_excel(r'.\\data\\master_full.xlsx', engine='openpyxl')\n",
    "df_f = pd.read_excel(r'.\\data\\master_filtered_full.xlsx', engine='openpyxl')"
   ]
  },
  {
   "cell_type": "code",
   "execution_count": 4,
   "id": "dba91ddd-b7ab-4e2a-a12c-96b6d9db2234",
   "metadata": {
    "collapsed": false,
    "jupyter": {
     "outputs_hidden": false
    },
    "pycharm": {
     "name": "#%%\n"
    }
   },
   "outputs": [
    {
     "data": {
      "text/plain": "   Unnamed: 0  L(mm)  F(N)      deriv                    batch  measure mat  \\\n0           0   0.20   0.2        NaN  2021-08-26_glue_no-glue      349       \n1           1   0.21   0.0  -3.333333  2021-08-26_glue_no-glue      349       \n2           2   0.26   0.7  11.666667  2021-08-26_glue_no-glue      349       \n3           3   0.32   1.7  14.285714  2021-08-26_glue_no-glue      349       \n4           4   0.38   5.4  37.000000  2021-08-26_glue_no-glue      349       \n\n  glue glue_thickness pattern cell_size  \n0                                        \n1                                        \n2                                        \n3                                        \n4                                        ",
      "text/html": "<div>\n<style scoped>\n    .dataframe tbody tr th:only-of-type {\n        vertical-align: middle;\n    }\n\n    .dataframe tbody tr th {\n        vertical-align: top;\n    }\n\n    .dataframe thead th {\n        text-align: right;\n    }\n</style>\n<table border=\"1\" class=\"dataframe\">\n  <thead>\n    <tr style=\"text-align: right;\">\n      <th></th>\n      <th>Unnamed: 0</th>\n      <th>L(mm)</th>\n      <th>F(N)</th>\n      <th>deriv</th>\n      <th>batch</th>\n      <th>measure</th>\n      <th>mat</th>\n      <th>glue</th>\n      <th>glue_thickness</th>\n      <th>pattern</th>\n      <th>cell_size</th>\n    </tr>\n  </thead>\n  <tbody>\n    <tr>\n      <th>0</th>\n      <td>0</td>\n      <td>0.20</td>\n      <td>0.2</td>\n      <td>NaN</td>\n      <td>2021-08-26_glue_no-glue</td>\n      <td>349</td>\n      <td></td>\n      <td></td>\n      <td></td>\n      <td></td>\n      <td></td>\n    </tr>\n    <tr>\n      <th>1</th>\n      <td>1</td>\n      <td>0.21</td>\n      <td>0.0</td>\n      <td>-3.333333</td>\n      <td>2021-08-26_glue_no-glue</td>\n      <td>349</td>\n      <td></td>\n      <td></td>\n      <td></td>\n      <td></td>\n      <td></td>\n    </tr>\n    <tr>\n      <th>2</th>\n      <td>2</td>\n      <td>0.26</td>\n      <td>0.7</td>\n      <td>11.666667</td>\n      <td>2021-08-26_glue_no-glue</td>\n      <td>349</td>\n      <td></td>\n      <td></td>\n      <td></td>\n      <td></td>\n      <td></td>\n    </tr>\n    <tr>\n      <th>3</th>\n      <td>3</td>\n      <td>0.32</td>\n      <td>1.7</td>\n      <td>14.285714</td>\n      <td>2021-08-26_glue_no-glue</td>\n      <td>349</td>\n      <td></td>\n      <td></td>\n      <td></td>\n      <td></td>\n      <td></td>\n    </tr>\n    <tr>\n      <th>4</th>\n      <td>4</td>\n      <td>0.38</td>\n      <td>5.4</td>\n      <td>37.000000</td>\n      <td>2021-08-26_glue_no-glue</td>\n      <td>349</td>\n      <td></td>\n      <td></td>\n      <td></td>\n      <td></td>\n      <td></td>\n    </tr>\n  </tbody>\n</table>\n</div>"
     },
     "execution_count": 4,
     "metadata": {},
     "output_type": "execute_result"
    }
   ],
   "source": [
    "df_f['mat'].replace(['Neobond 200 г'], 'Синтетическая бумага «Neobond 200 г»', inplace=True)\n",
    "df_f['mat'].replace(['Omega Silk 150 г'], 'Бумага для печати «Omega Silk 150 г»', inplace=True)\n",
    "df_f['mat'].replace(['Pretex 150 г'], 'Синтетическая бумага «Pretex 150 г»', inplace=True)\n",
    "df_f['mat'].replace(['Pretex 200 г'], 'Синтетическая бумага «Pretex 200 г»', inplace=True)\n",
    "df_f['mat'].replace(['Гознак 200 г'], 'Бумага офсетная для печати «Гознак 200 г»', inplace=True)\n",
    "df_f['mat'].replace([nan], '', inplace=True)\n",
    "df_f['glue'].replace([nan], '', inplace=True)\n",
    "df_f['glue_thickness'].replace([nan], '', inplace=True)\n",
    "df_f['pattern'].replace([nan], '', inplace=True)\n",
    "df_f['cell_size'].replace([nan], '', inplace=True)\n",
    "# df_f['is_glue'].replace([nan], '', inplace=True)\n",
    "\n",
    "df['mat'].replace(['Neobond 200 г'], 'Синтетическая бумага «Neobond 200 г»', inplace=True)\n",
    "df['mat'].replace(['Omega Silk 150 г'], 'Бумага для печати «Omega Silk 150 г»', inplace=True)\n",
    "df['mat'].replace(['Pretex 150 г'], 'Синтетическая бумага «Pretex 150 г»', inplace=True)\n",
    "df['mat'].replace(['Pretex 200 г'], 'Синтетическая бумага «Pretex 200 г»', inplace=True)\n",
    "df['mat'].replace(['Гознак 200 г'], 'Бумага офсетная для печати «Гознак 200 г»', inplace=True)\n",
    "df['mat'].replace([nan], '', inplace=True)\n",
    "df['glue'].replace([nan], '', inplace=True)\n",
    "df['glue_thickness'].replace([nan], '', inplace=True)\n",
    "df['pattern'].replace([nan], '', inplace=True)\n",
    "df['cell_size'].replace([nan], '', inplace=True)\n",
    "# df['is_glue'].replace([nan], '', inplace=True)\n",
    "df_f.head()"
   ]
  },
  {
   "cell_type": "code",
   "execution_count": 6,
   "id": "b4be5d51-e46f-420e-8e88-466c0569d8c6",
   "metadata": {
    "collapsed": false,
    "jupyter": {
     "outputs_hidden": false
    },
    "pycharm": {
     "name": "#%%\n"
    }
   },
   "outputs": [
    {
     "data": {
      "text/plain": "['Centro Grafico 125 WB',\n 'Nollax S35.3032',\n 'OpSec WRS853',\n 'Хомакол 943 ВР',\n 'без клея']"
     },
     "execution_count": 6,
     "metadata": {},
     "output_type": "execute_result"
    }
   ],
   "source": [
    "mats = sorted(filter(bool, set(df['mat'])))\n",
    "glues = sorted(filter(bool, set(df['glue'])))\n",
    "glue_thickness = sorted(filter(bool, set(df['glue_thickness'])))\n",
    "pattern = sorted(filter(bool, set(df['pattern'])))\n",
    "cell_size = sorted((filter(bool, set(df['cell_size']))))\n",
    "# is_glue = sorted((filter(bool, set(df['is_glue']))))\n",
    "glues"
   ]
  },
  {
   "cell_type": "code",
   "execution_count": 8,
   "id": "d0ff336f",
   "metadata": {
    "collapsed": false,
    "jupyter": {
     "outputs_hidden": false
    },
    "pycharm": {
     "name": "#%%\n"
    }
   },
   "outputs": [
    {
     "data": {
      "text/plain": "[('Centro Grafico 125 WB', 'Бумага для печати «Omega Silk 150 г»'),\n ('Centro Grafico 125 WB', 'Бумага офсетная для печати «Гознак 200 г»'),\n ('Centro Grafico 125 WB', 'Бумага офсетная для печати «Гознак 80 г»'),\n ('Centro Grafico 125 WB', 'Синтетическая бумага «Neobond 200 г»'),\n ('Centro Grafico 125 WB', 'Синтетическая бумага «Neobond Classic 150 г»'),\n ('Centro Grafico 125 WB', 'Синтетическая бумага «Pretex 150 г»'),\n ('Centro Grafico 125 WB', 'Синтетическая бумага «Pretex 200 г»'),\n ('Nollax S35.3032', 'Бумага для печати «Omega Silk 150 г»'),\n ('Nollax S35.3032', 'Бумага офсетная для печати «Гознак 200 г»'),\n ('Nollax S35.3032', 'Бумага офсетная для печати «Гознак 80 г»'),\n ('Nollax S35.3032', 'Синтетическая бумага «Neobond 200 г»'),\n ('Nollax S35.3032', 'Синтетическая бумага «Neobond Classic 150 г»'),\n ('Nollax S35.3032', 'Синтетическая бумага «Pretex 150 г»'),\n ('Nollax S35.3032', 'Синтетическая бумага «Pretex 200 г»'),\n ('OpSec WRS853', 'Бумага для печати «Omega Silk 150 г»'),\n ('OpSec WRS853', 'Бумага офсетная для печати «Гознак 200 г»'),\n ('OpSec WRS853', 'Бумага офсетная для печати «Гознак 80 г»'),\n ('OpSec WRS853', 'Синтетическая бумага «Neobond 200 г»'),\n ('OpSec WRS853', 'Синтетическая бумага «Neobond Classic 150 г»'),\n ('OpSec WRS853', 'Синтетическая бумага «Pretex 150 г»'),\n ('OpSec WRS853', 'Синтетическая бумага «Pretex 200 г»'),\n ('Хомакол 943 ВР', 'Бумага для печати «Omega Silk 150 г»'),\n ('Хомакол 943 ВР', 'Бумага офсетная для печати «Гознак 200 г»'),\n ('Хомакол 943 ВР', 'Бумага офсетная для печати «Гознак 80 г»'),\n ('Хомакол 943 ВР', 'Синтетическая бумага «Neobond 200 г»'),\n ('Хомакол 943 ВР', 'Синтетическая бумага «Neobond Classic 150 г»'),\n ('Хомакол 943 ВР', 'Синтетическая бумага «Pretex 150 г»'),\n ('Хомакол 943 ВР', 'Синтетическая бумага «Pretex 200 г»'),\n ('без клея', 'Бумага для печати «Omega Silk 150 г»'),\n ('без клея', 'Бумага офсетная для печати «Гознак 200 г»'),\n ('без клея', 'Бумага офсетная для печати «Гознак 80 г»'),\n ('без клея', 'Синтетическая бумага «Neobond 200 г»'),\n ('без клея', 'Синтетическая бумага «Neobond Classic 150 г»'),\n ('без клея', 'Синтетическая бумага «Pretex 150 г»'),\n ('без клея', 'Синтетическая бумага «Pretex 200 г»')]"
     },
     "execution_count": 8,
     "metadata": {},
     "output_type": "execute_result"
    }
   ],
   "source": [
    "mat_vs_glue = list(itertools.product(mats, glues))\n",
    "# mat_vs_is_glue = list(itertools.product(mats, is_glue))\n",
    "pattern_vs_cell_size = list(itertools.product(mats, pattern, cell_size))\n",
    "mat_vs_no_glue = list(itertools.product(mats, ['без клея']))\n",
    "mat_vs_glue_thickness = list(itertools.product(mats, glue_thickness))\n",
    "glue_vs_mat = list(itertools.product(glues, mats))\n",
    "glue_vs_mat"
   ]
  },
  {
   "cell_type": "code",
   "execution_count": 22,
   "outputs": [],
   "source": [
    "dark_pal = sb.dark_palette(\"#69d\", reverse=True, as_cmap=True)"
   ],
   "metadata": {
    "collapsed": false,
    "pycharm": {
     "name": "#%%\n"
    }
   }
  },
  {
   "cell_type": "code",
   "execution_count": 23,
   "id": "e0da0b84-aec2-470a-95e6-64634dcfd959",
   "metadata": {
    "collapsed": false,
    "jupyter": {
     "outputs_hidden": false
    },
    "pycharm": {
     "name": "#%%\n"
    }
   },
   "outputs": [],
   "source": [
    "def plot_pair(df, cols, pair, xlim, ylim):\n",
    "    col1, col2 = cols\n",
    "    val1, val2 = pair\n",
    "\n",
    "    with sb.axes_style('whitegrid'):\n",
    "        ax = sb.lineplot(data=df.loc[(df[col1] == val1) & (df[col2] == val2) & (df['measure'] != 1080)], x='L(mm)', y='F(N)', hue='measure', palette=dark_pal)\n",
    "        ax.set(xlim=xlim, ylim=ylim, title=f'{val1} | {val2}')\n",
    "\n",
    "        fig = ax.get_figure()\n",
    "        # fig.set_figwidth(15)\n",
    "        # fig.set_figheight(10)\n",
    "        fig.savefig(f'{pair}.jpg'.replace('/', '-'), dpi=400)\n",
    "        fig.clf()\n",
    "    return ax"
   ]
  },
  {
   "cell_type": "code",
   "execution_count": 24,
   "id": "e4bbca93-679c-4d46-9f5b-8380c7ad9570",
   "metadata": {
    "collapsed": false,
    "jupyter": {
     "outputs_hidden": false
    },
    "pycharm": {
     "name": "#%%\n"
    }
   },
   "outputs": [],
   "source": [
    "def plot_three(df, cols, pair, xlim, ylim):\n",
    "    col1, col2, col3 = cols\n",
    "    val1, val2, val3 = pair\n",
    "    with sb.axes_style('whitegrid'):\n",
    "        ax = sb.lineplot(data=df.loc[(df[col1] == val1) & (df[col2] == val2) & (df[col3] == val3)], x='L(mm)', y='F(N)', hue='measure', palette=dark_pal)\n",
    "        ax.set(xlim=xlim, ylim=ylim, title=f'{val1} | {val2} | {val3}')\n",
    "\n",
    "        fig = ax.get_figure()\n",
    "        # fig.set_figwidth(15)\n",
    "        # fig.set_figheight(10)\n",
    "        fig.savefig(f'{pair}.jpg'.replace('/', '-'), dpi=400)\n",
    "        fig.clf()\n",
    "    return ax"
   ]
  },
  {
   "cell_type": "code",
   "execution_count": 25,
   "id": "075feec1",
   "metadata": {
    "collapsed": false,
    "jupyter": {
     "outputs_hidden": false
    },
    "pycharm": {
     "name": "#%%\n"
    }
   },
   "outputs": [
    {
     "data": {
      "text/plain": "<Figure size 432x288 with 0 Axes>"
     },
     "metadata": {},
     "output_type": "display_data"
    }
   ],
   "source": [
    "for pair in glue_vs_mat[28:]:\n",
    "    ax = plot_pair(df_f, ('glue', 'mat'), pair, (0, 4), (0, 40))\n",
    "    # ax.legend_.remove()\n",
    "\n",
    "# for three in pattern_vs_cell_size:\n",
    "#     ax = plot_three(df_f, ('mat', 'pattern', 'cell_size'), three, (0, 6), (0, 60))\n"
   ]
  },
  {
   "cell_type": "code",
   "execution_count": null,
   "id": "c3b2f21f",
   "metadata": {
    "collapsed": false,
    "jupyter": {
     "outputs_hidden": false
    },
    "pycharm": {
     "name": "#%%\n"
    }
   },
   "outputs": [],
   "source": []
  }
 ],
 "metadata": {
  "kernelspec": {
   "display_name": "Python 3 (ipykernel)",
   "language": "python",
   "name": "python3"
  },
  "language_info": {
   "codemirror_mode": {
    "name": "ipython",
    "version": 3
   },
   "file_extension": ".py",
   "mimetype": "text/x-python",
   "name": "python",
   "nbconvert_exporter": "python",
   "pygments_lexer": "ipython3",
   "version": "3.8.10"
  }
 },
 "nbformat": 4,
 "nbformat_minor": 5
}