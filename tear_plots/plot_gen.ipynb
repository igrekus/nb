{
 "cells": [
  {
   "cell_type": "code",
   "execution_count": 6,
   "id": "09ba0b53-0319-4b5b-9f3c-975e575df63d",
   "metadata": {},
   "outputs": [],
   "source": [
    "import itertools\n",
    "\n",
    "import pandas as pd\n",
    "import seaborn as sb\n",
    "\n",
    "from numpy import nan"
   ]
  },
  {
   "cell_type": "code",
   "execution_count": 2,
   "id": "30c63405-4b66-4941-ac91-9081974b782d",
   "metadata": {},
   "outputs": [],
   "source": [
    "df = pd.read_excel(r'.\\data\\master_full.xlsx', engine='openpyxl')\n",
    "df_f = pd.read_excel(r'.\\data\\master_filtered_full.xlsx', engine='openpyxl')"
   ]
  },
  {
   "cell_type": "code",
   "execution_count": 3,
   "id": "66bdf593-fbb8-45da-84f5-b1110b6ea1be",
   "metadata": {},
   "outputs": [
    {
     "data": {
      "text/plain": "        Unnamed: 0  F(N)  L(mm)  measure                    batch  fdiff  \\\n0                0   0.2   0.20      349  2021-08-26_glue_no-glue    NaN   \n1                1   0.2   0.21      349  2021-08-26_glue_no-glue    0.0   \n2                2   0.2   0.26      349  2021-08-26_glue_no-glue    0.0   \n3                3   0.2   0.32      349  2021-08-26_glue_no-glue    0.0   \n4                4   0.0   0.38      349  2021-08-26_glue_no-glue   -0.2   \n...            ...   ...    ...      ...                      ...    ...   \n365151      365151   0.1  23.62     1148         2021-09-30_glues    0.0   \n365152      365152   0.1  23.68     1148         2021-09-30_glues    0.0   \n365153      365153   0.2  23.85     1148         2021-09-30_glues    0.1   \n365154      365154   0.1  23.90     1148         2021-09-30_glues   -0.1   \n365155      365155   0.1  23.96     1148         2021-09-30_glues    0.0   \n\n        ldiff     deriv                                   mat  \\\n0         NaN       NaN                                         \n1        0.01  0.000000                                         \n2        0.05  0.000000                                         \n3        0.06  0.000000                                         \n4        0.06 -3.333333                                         \n...       ...       ...                                   ...   \n365151   0.05  0.000000  Синтетическая бумага «Neobond 200 г»   \n365152   0.06  0.000000  Синтетическая бумага «Neobond 200 г»   \n365153   0.17  0.588235  Синтетическая бумага «Neobond 200 г»   \n365154   0.05 -2.000000  Синтетическая бумага «Neobond 200 г»   \n365155   0.06  0.000000  Синтетическая бумага «Neobond 200 г»   \n\n                         glue glue_thickness pattern cell_size  \n0                                                               \n1                                                               \n2                                                               \n3                                                               \n4                                                               \n...                       ...            ...     ...       ...  \n365151  Centro Grafico 125 WB                                   \n365152  Centro Grafico 125 WB                                   \n365153  Centro Grafico 125 WB                                   \n365154  Centro Grafico 125 WB                                   \n365155  Centro Grafico 125 WB                                   \n\n[365156 rows x 13 columns]",
      "text/html": "<div>\n<style scoped>\n    .dataframe tbody tr th:only-of-type {\n        vertical-align: middle;\n    }\n\n    .dataframe tbody tr th {\n        vertical-align: top;\n    }\n\n    .dataframe thead th {\n        text-align: right;\n    }\n</style>\n<table border=\"1\" class=\"dataframe\">\n  <thead>\n    <tr style=\"text-align: right;\">\n      <th></th>\n      <th>Unnamed: 0</th>\n      <th>F(N)</th>\n      <th>L(mm)</th>\n      <th>measure</th>\n      <th>batch</th>\n      <th>fdiff</th>\n      <th>ldiff</th>\n      <th>deriv</th>\n      <th>mat</th>\n      <th>glue</th>\n      <th>glue_thickness</th>\n      <th>pattern</th>\n      <th>cell_size</th>\n    </tr>\n  </thead>\n  <tbody>\n    <tr>\n      <th>0</th>\n      <td>0</td>\n      <td>0.2</td>\n      <td>0.20</td>\n      <td>349</td>\n      <td>2021-08-26_glue_no-glue</td>\n      <td>NaN</td>\n      <td>NaN</td>\n      <td>NaN</td>\n      <td></td>\n      <td></td>\n      <td></td>\n      <td></td>\n      <td></td>\n    </tr>\n    <tr>\n      <th>1</th>\n      <td>1</td>\n      <td>0.2</td>\n      <td>0.21</td>\n      <td>349</td>\n      <td>2021-08-26_glue_no-glue</td>\n      <td>0.0</td>\n      <td>0.01</td>\n      <td>0.000000</td>\n      <td></td>\n      <td></td>\n      <td></td>\n      <td></td>\n      <td></td>\n    </tr>\n    <tr>\n      <th>2</th>\n      <td>2</td>\n      <td>0.2</td>\n      <td>0.26</td>\n      <td>349</td>\n      <td>2021-08-26_glue_no-glue</td>\n      <td>0.0</td>\n      <td>0.05</td>\n      <td>0.000000</td>\n      <td></td>\n      <td></td>\n      <td></td>\n      <td></td>\n      <td></td>\n    </tr>\n    <tr>\n      <th>3</th>\n      <td>3</td>\n      <td>0.2</td>\n      <td>0.32</td>\n      <td>349</td>\n      <td>2021-08-26_glue_no-glue</td>\n      <td>0.0</td>\n      <td>0.06</td>\n      <td>0.000000</td>\n      <td></td>\n      <td></td>\n      <td></td>\n      <td></td>\n      <td></td>\n    </tr>\n    <tr>\n      <th>4</th>\n      <td>4</td>\n      <td>0.0</td>\n      <td>0.38</td>\n      <td>349</td>\n      <td>2021-08-26_glue_no-glue</td>\n      <td>-0.2</td>\n      <td>0.06</td>\n      <td>-3.333333</td>\n      <td></td>\n      <td></td>\n      <td></td>\n      <td></td>\n      <td></td>\n    </tr>\n    <tr>\n      <th>...</th>\n      <td>...</td>\n      <td>...</td>\n      <td>...</td>\n      <td>...</td>\n      <td>...</td>\n      <td>...</td>\n      <td>...</td>\n      <td>...</td>\n      <td>...</td>\n      <td>...</td>\n      <td>...</td>\n      <td>...</td>\n      <td>...</td>\n    </tr>\n    <tr>\n      <th>365151</th>\n      <td>365151</td>\n      <td>0.1</td>\n      <td>23.62</td>\n      <td>1148</td>\n      <td>2021-09-30_glues</td>\n      <td>0.0</td>\n      <td>0.05</td>\n      <td>0.000000</td>\n      <td>Синтетическая бумага «Neobond 200 г»</td>\n      <td>Centro Grafico 125 WB</td>\n      <td></td>\n      <td></td>\n      <td></td>\n    </tr>\n    <tr>\n      <th>365152</th>\n      <td>365152</td>\n      <td>0.1</td>\n      <td>23.68</td>\n      <td>1148</td>\n      <td>2021-09-30_glues</td>\n      <td>0.0</td>\n      <td>0.06</td>\n      <td>0.000000</td>\n      <td>Синтетическая бумага «Neobond 200 г»</td>\n      <td>Centro Grafico 125 WB</td>\n      <td></td>\n      <td></td>\n      <td></td>\n    </tr>\n    <tr>\n      <th>365153</th>\n      <td>365153</td>\n      <td>0.2</td>\n      <td>23.85</td>\n      <td>1148</td>\n      <td>2021-09-30_glues</td>\n      <td>0.1</td>\n      <td>0.17</td>\n      <td>0.588235</td>\n      <td>Синтетическая бумага «Neobond 200 г»</td>\n      <td>Centro Grafico 125 WB</td>\n      <td></td>\n      <td></td>\n      <td></td>\n    </tr>\n    <tr>\n      <th>365154</th>\n      <td>365154</td>\n      <td>0.1</td>\n      <td>23.90</td>\n      <td>1148</td>\n      <td>2021-09-30_glues</td>\n      <td>-0.1</td>\n      <td>0.05</td>\n      <td>-2.000000</td>\n      <td>Синтетическая бумага «Neobond 200 г»</td>\n      <td>Centro Grafico 125 WB</td>\n      <td></td>\n      <td></td>\n      <td></td>\n    </tr>\n    <tr>\n      <th>365155</th>\n      <td>365155</td>\n      <td>0.1</td>\n      <td>23.96</td>\n      <td>1148</td>\n      <td>2021-09-30_glues</td>\n      <td>0.0</td>\n      <td>0.06</td>\n      <td>0.000000</td>\n      <td>Синтетическая бумага «Neobond 200 г»</td>\n      <td>Centro Grafico 125 WB</td>\n      <td></td>\n      <td></td>\n      <td></td>\n    </tr>\n  </tbody>\n</table>\n<p>365156 rows × 13 columns</p>\n</div>"
     },
     "execution_count": 3,
     "metadata": {},
     "output_type": "execute_result"
    }
   ],
   "source": [
    "# df.loc[df.mat == 'Neobond 200 г', 'mat'] = 'Синтетическая бумага «Neobond 200 г»'\n",
    "df_f['mat'].replace(['Neobond 200 г'], 'Синтетическая бумага «Neobond 200 г»', inplace=True)\n",
    "df_f['mat'].replace(['Omega Silk 150 г'], 'Бумага для печати «Omega Silk 150 г»', inplace=True)\n",
    "df_f['mat'].replace(['Pretex 150 г'], 'Синтетическая бумага «Pretex 150 г»', inplace=True)\n",
    "df_f['mat'].replace(['Pretex 200 г'], 'Синтетическая бумага «Pretex 200 г»', inplace=True)\n",
    "df_f['mat'].replace(['Гознак 200 г'], 'Бумага офсетная для печати «Гознак 200 г»', inplace=True)\n",
    "df_f['mat'].replace([nan], '', inplace=True)\n",
    "df_f['glue'].replace([nan], '', inplace=True)\n",
    "df_f['glue_thickness'].replace([nan], '', inplace=True)\n",
    "df_f['pattern'].replace([nan], '', inplace=True)\n",
    "df_f['cell_size'].replace([nan], '', inplace=True)\n",
    "\n",
    "df['mat'].replace(['Neobond 200 г'], 'Синтетическая бумага «Neobond 200 г»', inplace=True)\n",
    "df['mat'].replace(['Omega Silk 150 г'], 'Бумага для печати «Omega Silk 150 г»', inplace=True)\n",
    "df['mat'].replace(['Pretex 150 г'], 'Синтетическая бумага «Pretex 150 г»', inplace=True)\n",
    "df['mat'].replace(['Pretex 200 г'], 'Синтетическая бумага «Pretex 200 г»', inplace=True)\n",
    "df['mat'].replace(['Гознак 200 г'], 'Бумага офсетная для печати «Гознак 200 г»', inplace=True)\n",
    "df['mat'].replace([nan], '', inplace=True)\n",
    "df['glue'].replace([nan], '', inplace=True)\n",
    "df['glue_thickness'].replace([nan], '', inplace=True)\n",
    "df['pattern'].replace([nan], '', inplace=True)\n",
    "df['cell_size'].replace([nan], '', inplace=True)\n",
    "df"
   ]
  },
  {
   "cell_type": "code",
   "execution_count": 4,
   "outputs": [
    {
     "data": {
      "text/plain": "[70.0, 90.0, 100.0]"
     },
     "execution_count": 4,
     "metadata": {},
     "output_type": "execute_result"
    }
   ],
   "source": [
    "mats = sorted(filter(bool, set(df['mat'])))\n",
    "glues = sorted(filter(bool, set(df['glue'])))\n",
    "glue_thickness = sorted(filter(bool, set(df['glue_thickness'])))\n",
    "pattern = sorted(filter(bool, set(df['pattern'])))\n",
    "cell_size = sorted((filter(bool, set(df['cell_size']))))\n",
    "cell_size"
   ],
   "metadata": {
    "collapsed": false,
    "pycharm": {
     "name": "#%%\n"
    }
   }
  },
  {
   "cell_type": "code",
   "execution_count": 9,
   "outputs": [
    {
     "data": {
      "text/plain": "[('Бумага для печати «Omega Silk 150 г»', 'Centro Grafico 125 WB'),\n ('Бумага для печати «Omega Silk 150 г»', 'Nollax S35.3032'),\n ('Бумага для печати «Omega Silk 150 г»', 'OpSec WRS853'),\n ('Бумага для печати «Omega Silk 150 г»', 'Хомакол 943 ВР'),\n ('Бумага для печати «Omega Silk 150 г»', 'без клея'),\n ('Бумага офсетная для печати «Гознак 200 г»', 'Centro Grafico 125 WB'),\n ('Бумага офсетная для печати «Гознак 200 г»', 'Nollax S35.3032'),\n ('Бумага офсетная для печати «Гознак 200 г»', 'OpSec WRS853'),\n ('Бумага офсетная для печати «Гознак 200 г»', 'Хомакол 943 ВР'),\n ('Бумага офсетная для печати «Гознак 200 г»', 'без клея'),\n ('Бумага офсетная для печати «Гознак 80 г»', 'Centro Grafico 125 WB'),\n ('Бумага офсетная для печати «Гознак 80 г»', 'Nollax S35.3032'),\n ('Бумага офсетная для печати «Гознак 80 г»', 'OpSec WRS853'),\n ('Бумага офсетная для печати «Гознак 80 г»', 'Хомакол 943 ВР'),\n ('Бумага офсетная для печати «Гознак 80 г»', 'без клея'),\n ('Синтетическая бумага «Neobond 200 г»', 'Centro Grafico 125 WB'),\n ('Синтетическая бумага «Neobond 200 г»', 'Nollax S35.3032'),\n ('Синтетическая бумага «Neobond 200 г»', 'OpSec WRS853'),\n ('Синтетическая бумага «Neobond 200 г»', 'Хомакол 943 ВР'),\n ('Синтетическая бумага «Neobond 200 г»', 'без клея'),\n ('Синтетическая бумага «Neobond Classic 150 г»', 'Centro Grafico 125 WB'),\n ('Синтетическая бумага «Neobond Classic 150 г»', 'Nollax S35.3032'),\n ('Синтетическая бумага «Neobond Classic 150 г»', 'OpSec WRS853'),\n ('Синтетическая бумага «Neobond Classic 150 г»', 'Хомакол 943 ВР'),\n ('Синтетическая бумага «Neobond Classic 150 г»', 'без клея'),\n ('Синтетическая бумага «Pretex 150 г»', 'Centro Grafico 125 WB'),\n ('Синтетическая бумага «Pretex 150 г»', 'Nollax S35.3032'),\n ('Синтетическая бумага «Pretex 150 г»', 'OpSec WRS853'),\n ('Синтетическая бумага «Pretex 150 г»', 'Хомакол 943 ВР'),\n ('Синтетическая бумага «Pretex 150 г»', 'без клея'),\n ('Синтетическая бумага «Pretex 200 г»', 'Centro Grafico 125 WB'),\n ('Синтетическая бумага «Pretex 200 г»', 'Nollax S35.3032'),\n ('Синтетическая бумага «Pretex 200 г»', 'OpSec WRS853'),\n ('Синтетическая бумага «Pretex 200 г»', 'Хомакол 943 ВР'),\n ('Синтетическая бумага «Pretex 200 г»', 'без клея')]"
     },
     "execution_count": 9,
     "metadata": {},
     "output_type": "execute_result"
    }
   ],
   "source": [
    "mat_vs_glue = list(itertools.product(mats, glues))\n",
    "mat_vs_glue"
   ],
   "metadata": {
    "collapsed": false,
    "pycharm": {
     "name": "#%%\n"
    }
   }
  },
  {
   "cell_type": "code",
   "execution_count": 31,
   "outputs": [],
   "source": [
    "def plot_pair(df, cols, pair):\n",
    "    col1, col2 = cols\n",
    "    val1, val2 = pair\n",
    "\n",
    "    ax = sb.lineplot(data=df.loc[(df[col1] == val1) & (df[col2] == val2)], x='L(mm)', y='F(N)', hue='measure', palette='flare')\n",
    "    ax.set(xlim=(0, 4), title=f'{val1} |  {val2}')\n",
    "\n",
    "    fig = ax.get_figure()\n",
    "    # fig.set_figwidth(15)\n",
    "    # fig.set_figheight(10)\n",
    "    fig.savefig(f'{pair}.jpg', dpi=300)\n",
    "    fig.clf()\n"
   ],
   "metadata": {
    "collapsed": false,
    "pycharm": {
     "name": "#%%\n"
    }
   }
  },
  {
   "cell_type": "code",
   "execution_count": 32,
   "outputs": [
    {
     "data": {
      "text/plain": "<Figure size 432x288 with 0 Axes>"
     },
     "metadata": {},
     "output_type": "display_data"
    }
   ],
   "source": [
    "for pair in mat_vs_glue:\n",
    "    plot_pair(df_f, ('mat', 'glue'), pair)"
   ],
   "metadata": {
    "collapsed": false,
    "pycharm": {
     "name": "#%%\n"
    }
   }
  },
  {
   "cell_type": "code",
   "execution_count": null,
   "outputs": [],
   "source": [],
   "metadata": {
    "collapsed": false,
    "pycharm": {
     "name": "#%%\n"
    }
   }
  }
 ],
 "metadata": {
  "kernelspec": {
   "display_name": "Python 3 (ipykernel)",
   "language": "python",
   "name": "python3"
  },
  "language_info": {
   "codemirror_mode": {
    "name": "ipython",
    "version": 3
   },
   "file_extension": ".py",
   "mimetype": "text/x-python",
   "name": "python",
   "nbconvert_exporter": "python",
   "pygments_lexer": "ipython3",
   "version": "3.8.10"
  }
 },
 "nbformat": 4,
 "nbformat_minor": 5
}