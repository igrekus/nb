{
 "cells": [
  {
   "cell_type": "code",
   "execution_count": 1,
   "metadata": {
    "collapsed": true
   },
   "outputs": [],
   "source": [
    "import pandas as pd\n",
    "import seaborn as sb\n",
    "\n",
    "from numpy import nan"
   ]
  },
  {
   "cell_type": "code",
   "execution_count": 19,
   "outputs": [
    {
     "data": {
      "text/plain": "   Unnamed: 0  L(mm)  F(N)      deriv                    batch  measure  mat  \\\n0           0   0.20   0.2        NaN  2021-08-26_glue_no-glue      349  NaN   \n1           1   0.21   0.0  -3.333333  2021-08-26_glue_no-glue      349  NaN   \n2           2   0.26   0.7  11.666667  2021-08-26_glue_no-glue      349  NaN   \n3           3   0.32   1.7  14.285714  2021-08-26_glue_no-glue      349  NaN   \n4           4   0.38   5.4  37.000000  2021-08-26_glue_no-glue      349  NaN   \n\n  glue glue_thickness pattern  cell_size  \n0  NaN            NaN     NaN        NaN  \n1  NaN            NaN     NaN        NaN  \n2  NaN            NaN     NaN        NaN  \n3  NaN            NaN     NaN        NaN  \n4  NaN            NaN     NaN        NaN  ",
      "text/html": "<div>\n<style scoped>\n    .dataframe tbody tr th:only-of-type {\n        vertical-align: middle;\n    }\n\n    .dataframe tbody tr th {\n        vertical-align: top;\n    }\n\n    .dataframe thead th {\n        text-align: right;\n    }\n</style>\n<table border=\"1\" class=\"dataframe\">\n  <thead>\n    <tr style=\"text-align: right;\">\n      <th></th>\n      <th>Unnamed: 0</th>\n      <th>L(mm)</th>\n      <th>F(N)</th>\n      <th>deriv</th>\n      <th>batch</th>\n      <th>measure</th>\n      <th>mat</th>\n      <th>glue</th>\n      <th>glue_thickness</th>\n      <th>pattern</th>\n      <th>cell_size</th>\n    </tr>\n  </thead>\n  <tbody>\n    <tr>\n      <th>0</th>\n      <td>0</td>\n      <td>0.20</td>\n      <td>0.2</td>\n      <td>NaN</td>\n      <td>2021-08-26_glue_no-glue</td>\n      <td>349</td>\n      <td>NaN</td>\n      <td>NaN</td>\n      <td>NaN</td>\n      <td>NaN</td>\n      <td>NaN</td>\n    </tr>\n    <tr>\n      <th>1</th>\n      <td>1</td>\n      <td>0.21</td>\n      <td>0.0</td>\n      <td>-3.333333</td>\n      <td>2021-08-26_glue_no-glue</td>\n      <td>349</td>\n      <td>NaN</td>\n      <td>NaN</td>\n      <td>NaN</td>\n      <td>NaN</td>\n      <td>NaN</td>\n    </tr>\n    <tr>\n      <th>2</th>\n      <td>2</td>\n      <td>0.26</td>\n      <td>0.7</td>\n      <td>11.666667</td>\n      <td>2021-08-26_glue_no-glue</td>\n      <td>349</td>\n      <td>NaN</td>\n      <td>NaN</td>\n      <td>NaN</td>\n      <td>NaN</td>\n      <td>NaN</td>\n    </tr>\n    <tr>\n      <th>3</th>\n      <td>3</td>\n      <td>0.32</td>\n      <td>1.7</td>\n      <td>14.285714</td>\n      <td>2021-08-26_glue_no-glue</td>\n      <td>349</td>\n      <td>NaN</td>\n      <td>NaN</td>\n      <td>NaN</td>\n      <td>NaN</td>\n      <td>NaN</td>\n    </tr>\n    <tr>\n      <th>4</th>\n      <td>4</td>\n      <td>0.38</td>\n      <td>5.4</td>\n      <td>37.000000</td>\n      <td>2021-08-26_glue_no-glue</td>\n      <td>349</td>\n      <td>NaN</td>\n      <td>NaN</td>\n      <td>NaN</td>\n      <td>NaN</td>\n      <td>NaN</td>\n    </tr>\n  </tbody>\n</table>\n</div>"
     },
     "execution_count": 19,
     "metadata": {},
     "output_type": "execute_result"
    }
   ],
   "source": [
    "df = pd.read_excel('master_filtered_full.xlsx', engine='openpyxl')\n",
    "df.head()"
   ],
   "metadata": {
    "collapsed": false,
    "pycharm": {
     "name": "#%%\n"
    }
   }
  },
  {
   "cell_type": "code",
   "execution_count": 20,
   "outputs": [
    {
     "data": {
      "text/plain": "     L(mm) F(N)      deriv                    batch  measure mat glue  \\\n3365   0.2  0.3             2021-08-26_glue_no-glue      369            \n3366  0.23  0.4        2.5  2021-08-26_glue_no-glue      369            \n3367  0.31  1.8       28.0  2021-08-26_glue_no-glue      369            \n3368  0.35  6.0       84.0  2021-08-26_glue_no-glue      369            \n3369   0.4  9.1  51.666667  2021-08-26_glue_no-glue      369            \n\n     glue_thickness pattern cell_size  \n3365                                   \n3366                                   \n3367                                   \n3368                                   \n3369                                   ",
      "text/html": "<div>\n<style scoped>\n    .dataframe tbody tr th:only-of-type {\n        vertical-align: middle;\n    }\n\n    .dataframe tbody tr th {\n        vertical-align: top;\n    }\n\n    .dataframe thead th {\n        text-align: right;\n    }\n</style>\n<table border=\"1\" class=\"dataframe\">\n  <thead>\n    <tr style=\"text-align: right;\">\n      <th></th>\n      <th>L(mm)</th>\n      <th>F(N)</th>\n      <th>deriv</th>\n      <th>batch</th>\n      <th>measure</th>\n      <th>mat</th>\n      <th>glue</th>\n      <th>glue_thickness</th>\n      <th>pattern</th>\n      <th>cell_size</th>\n    </tr>\n  </thead>\n  <tbody>\n    <tr>\n      <th>3365</th>\n      <td>0.2</td>\n      <td>0.3</td>\n      <td></td>\n      <td>2021-08-26_glue_no-glue</td>\n      <td>369</td>\n      <td></td>\n      <td></td>\n      <td></td>\n      <td></td>\n      <td></td>\n    </tr>\n    <tr>\n      <th>3366</th>\n      <td>0.23</td>\n      <td>0.4</td>\n      <td>2.5</td>\n      <td>2021-08-26_glue_no-glue</td>\n      <td>369</td>\n      <td></td>\n      <td></td>\n      <td></td>\n      <td></td>\n      <td></td>\n    </tr>\n    <tr>\n      <th>3367</th>\n      <td>0.31</td>\n      <td>1.8</td>\n      <td>28.0</td>\n      <td>2021-08-26_glue_no-glue</td>\n      <td>369</td>\n      <td></td>\n      <td></td>\n      <td></td>\n      <td></td>\n      <td></td>\n    </tr>\n    <tr>\n      <th>3368</th>\n      <td>0.35</td>\n      <td>6.0</td>\n      <td>84.0</td>\n      <td>2021-08-26_glue_no-glue</td>\n      <td>369</td>\n      <td></td>\n      <td></td>\n      <td></td>\n      <td></td>\n      <td></td>\n    </tr>\n    <tr>\n      <th>3369</th>\n      <td>0.4</td>\n      <td>9.1</td>\n      <td>51.666667</td>\n      <td>2021-08-26_glue_no-glue</td>\n      <td>369</td>\n      <td></td>\n      <td></td>\n      <td></td>\n      <td></td>\n      <td></td>\n    </tr>\n  </tbody>\n</table>\n</div>"
     },
     "execution_count": 20,
     "metadata": {},
     "output_type": "execute_result"
    }
   ],
   "source": [
    "sample = df.loc[df['measure'].isin(range(369, 379))]\n",
    "sample = sample.replace([nan], '')\n",
    "sample = sample.drop('Unnamed: 0', axis=1)\n",
    "sample.head()"
   ],
   "metadata": {
    "collapsed": false,
    "pycharm": {
     "name": "#%%\n"
    }
   }
  },
  {
   "cell_type": "code",
   "execution_count": 21,
   "outputs": [],
   "source": [
    "sample.to_excel('sample_filtered.xlsx', engine='openpyxl', index=False)"
   ],
   "metadata": {
    "collapsed": false,
    "pycharm": {
     "name": "#%%\n"
    }
   }
  },
  {
   "cell_type": "code",
   "execution_count": null,
   "outputs": [],
   "source": [],
   "metadata": {
    "collapsed": false,
    "pycharm": {
     "name": "#%%\n"
    }
   }
  }
 ],
 "metadata": {
  "kernelspec": {
   "display_name": "Python 3",
   "language": "python",
   "name": "python3"
  },
  "language_info": {
   "codemirror_mode": {
    "name": "ipython",
    "version": 2
   },
   "file_extension": ".py",
   "mimetype": "text/x-python",
   "name": "python",
   "nbconvert_exporter": "python",
   "pygments_lexer": "ipython2",
   "version": "2.7.6"
  }
 },
 "nbformat": 4,
 "nbformat_minor": 0
}